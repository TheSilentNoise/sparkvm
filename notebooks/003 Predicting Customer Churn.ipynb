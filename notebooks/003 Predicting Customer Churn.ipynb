{
 "cells": [
  {
   "cell_type": "code",
   "execution_count": 2,
   "metadata": {
    "collapsed": true
   },
   "outputs": [],
   "source": [
    "# Imports\n",
    "from pyspark.sql import SparkSession\n",
    "from pyspark.sql.types import *\n",
    "from pyspark.ml.classification import DecisionTreeClassifier, LogisticRegression, RandomForestClassifier\n",
    "from pyspark.ml import Pipeline\n",
    "from pyspark.ml.feature import OneHotEncoder, StringIndexer, VectorAssembler\n",
    "from pyspark.ml.evaluation import BinaryClassificationEvaluator\n",
    "from pyspark.ml.tuning import ParamGridBuilder, CrossValidator"
   ]
  },
  {
   "cell_type": "code",
   "execution_count": 19,
   "metadata": {},
   "outputs": [],
   "source": [
    "# Define the schema\n",
    "field_names = [\n",
    "    \"State\",\n",
    "    \"AccountLength\",\n",
    "    \"AreaCode\",\n",
    "    \"Phone\",\n",
    "    \"IntlPlan\",\n",
    "    \"VMailPlan\",\n",
    "    \"VMailMessage\",\n",
    "    \"DayMins\",\n",
    "    \"DayCalls\",\n",
    "    \"DayCharge\",\n",
    "    \"EveMins\",\n",
    "    \"EveCalls\",\n",
    "    \"EveCharge\",\n",
    "    \"NightMins\",\n",
    "    \"NightCalls\",\n",
    "    \"NightCharge\",\n",
    "    \"IntlMins\",\n",
    "    \"IntlCalls\",\n",
    "    \"IntlCharge\",\n",
    "    \"CustServCalls\",\n",
    "    \"Churn\"]\n",
    "\n",
    "fields = [StructField(field_name, StringType(), True) for field_name in field_names]\n",
    "churn_schema = StructType(fields)"
   ]
  },
  {
   "cell_type": "code",
   "execution_count": 9,
   "metadata": {},
   "outputs": [],
   "source": [
    "# Create our spark context\n",
    "spark = SparkSession \\\n",
    "    .builder \\\n",
    "    .master(\"local[*]\") \\\n",
    "    .appName(\"Predicting Customer Churn\") \\\n",
    "    .getOrCreate()"
   ]
  },
  {
   "cell_type": "code",
   "execution_count": 20,
   "metadata": {},
   "outputs": [],
   "source": [
    "# Read the data set\n",
    "churn_dataset = spark.read.option(\"header\", \"true\") \\\n",
    "    .schema(churn_schema) \\\n",
    "    .csv(\"/vagrant/data/churn.csv\")"
   ]
  },
  {
   "cell_type": "code",
   "execution_count": 24,
   "metadata": {},
   "outputs": [],
   "source": [
    "%matplotlib inline\n",
    "import random\n",
    "import matplotlib.pyplot as plt\n",
    "import pandas\n",
    "import numpy\n",
    "\n",
    "NUM_BINS = 10"
   ]
  },
  {
   "cell_type": "code",
   "execution_count": 28,
   "metadata": {},
   "outputs": [
    {
     "data": {
      "image/png": "[encoded data removed]",
      "text/plain": [
       "<matplotlib.figure.Figure at 0x7ff682a8bfd0>"
      ]
     },
     "metadata": {},
     "output_type": "display_data"
    }
   ],
   "source": [
    "n, bins, patches = plt.hist(numpy.array(churn_dataset.select(\"NightMins\").rdd.collect()).astype(numpy.float), NUM_BINS, normed=0, facecolor='red', alpha=0.5, label=\"Night Mins\")\n",
    "plt.legend(loc='upper right')\n",
    "plt.show()"
   ]
  }
 ],
 "metadata": {
  "kernelspec": {
   "display_name": "Python 3",
   "language": "python",
   "name": "python3"
  },
  "language_info": {
   "codemirror_mode": {
    "name": "ipython",
    "version": 3
   },
   "file_extension": ".py",
   "mimetype": "text/x-python",
   "name": "python",
   "nbconvert_exporter": "python",
   "pygments_lexer": "ipython3",
   "version": "3.5.2"
  }
 },
 "nbformat": 4,
 "nbformat_minor": 2
}
