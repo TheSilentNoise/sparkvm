{
 "cells": [
  {
   "cell_type": "markdown",
   "metadata": {},
   "source": [
    "First, let's verify that our `sc`, an instance of `SparkContext`, is available for use. If there isn't one, then we need to create it."
   ]
  },
  {
   "cell_type": "code",
   "execution_count": 1,
   "metadata": {},
   "outputs": [
    {
     "name": "stdout",
     "output_type": "stream",
     "text": [
      "Creating `sc` connection to local[*]\n",
      "`sc` variable created with application ID: local-1493753058015\n"
     ]
    }
   ],
   "source": [
    "from pyspark import SparkConf, SparkContext\n",
    "\n",
    "APP_NAME = \"pyspark\"\n",
    "SPARK_URL = \"local[*]\"\n",
    "MAX_VALUE = 100\n",
    "\n",
    "if 'sc' in dir():\n",
    "    print(\"`sc` variable already exists with application ID:\", sc.applicationId)\n",
    "    print(\"Stopping...\")\n",
    "    sc.stop()\n",
    "    print(\"Stopped.\")\n",
    "    sc = None\n",
    "\n",
    "conf = SparkConf() \\\n",
    "    .setMaster(SPARK_URL) \\\n",
    "    .setAppName(APP_NAME)\n",
    "print(\"Creating `sc` connection to %s\" % (SPARK_URL))\n",
    "sc = SparkContext(conf = conf)\n",
    "print(\"`sc` variable created with application ID:\", sc.applicationId)"
   ]
  },
  {
   "cell_type": "markdown",
   "metadata": {},
   "source": [
    "Let's create a function to find prime numbers."
   ]
  },
  {
   "cell_type": "code",
   "execution_count": 2,
   "metadata": {
    "collapsed": true
   },
   "outputs": [],
   "source": [
    "def is_prime(n):\n",
    "    # Ensure that `n` is a positive integer\n",
    "    n = abs(int(n))\n",
    "    # 0 and 1 are not prime\n",
    "    if n < 2:\n",
    "        return False\n",
    "    # 2 is the only even prime\n",
    "    if n == 2:\n",
    "        return True\n",
    "    # All even numbers are not prime\n",
    "    if not n & 1:\n",
    "        return False\n",
    "    # Test all odd numbers between 3 and the square root of n\n",
    "    for x in range(3, int(n**0.5)+1, 2):\n",
    "        if n % x == 0:\n",
    "            return False\n",
    "    return True"
   ]
  },
  {
   "cell_type": "code",
   "execution_count": 3,
   "metadata": {},
   "outputs": [
    {
     "name": "stdout",
     "output_type": "stream",
     "text": [
      "There are 100 numbers.\n"
     ]
    }
   ],
   "source": [
    "# Create a parallelized array of numbers\n",
    "numbers = sc.parallelize(range(MAX_VALUE))\n",
    "print(\"There are %d numbers.\" % (numbers.count()))"
   ]
  },
  {
   "cell_type": "code",
   "execution_count": 4,
   "metadata": {},
   "outputs": [
    {
     "name": "stdout",
     "output_type": "stream",
     "text": [
      "There are 25 prime numbers.\n"
     ]
    }
   ],
   "source": [
    "prime_numbers = numbers.filter(is_prime)\n",
    "print(\"There are %d prime numbers.\" % (prime_numbers.count()))"
   ]
  },
  {
   "cell_type": "markdown",
   "metadata": {},
   "source": [
    "If you left `MAX_VALUE` set to 100, then you should have 25 prime numbers less than 100."
   ]
  },
  {
   "cell_type": "code",
   "execution_count": 5,
   "metadata": {},
   "outputs": [
    {
     "name": "stdout",
     "output_type": "stream",
     "text": [
      "[2, 3, 5, 7, 11, 13, 17, 19, 23, 29, 31, 37, 41, 43, 47, 53, 59, 61, 67, 71, 73, 79, 83, 89, 97]\n"
     ]
    }
   ],
   "source": [
    "print(prime_numbers.collect())"
   ]
  }
 ],
 "metadata": {
  "kernelspec": {
   "display_name": "Python 3",
   "language": "python",
   "name": "python3"
  },
  "language_info": {
   "codemirror_mode": {
    "name": "ipython",
    "version": 3
   },
   "file_extension": ".py",
   "mimetype": "text/x-python",
   "name": "python",
   "nbconvert_exporter": "python",
   "pygments_lexer": "ipython3",
   "version": "3.5.2"
  }
 },
 "nbformat": 4,
 "nbformat_minor": 2
}
